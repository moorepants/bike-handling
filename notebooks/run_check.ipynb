{
 "cells": [
  {
   "cell_type": "markdown",
   "metadata": {},
   "source": [
    "# Load the data for Jason's slow bike line tracking tasks"
   ]
  },
  {
   "cell_type": "code",
   "execution_count": null,
   "metadata": {
    "collapsed": true
   },
   "outputs": [],
   "source": [
    "import bicycledataprocessor as bdp"
   ]
  },
  {
   "cell_type": "code",
   "execution_count": null,
   "metadata": {
    "collapsed": true
   },
   "outputs": [],
   "source": [
    "dataset = bdp.DataSet()"
   ]
  },
  {
   "cell_type": "markdown",
   "metadata": {},
   "source": [
    "These are the slow bike line tracking tasks for Jason:"
   ]
  },
  {
   "cell_type": "code",
   "execution_count": null,
   "metadata": {},
   "outputs": [],
   "source": [
    "run_ids = ['00{}'.format(n) for n in range(814, 820)]\n",
    "run_ids"
   ]
  },
  {
   "cell_type": "code",
   "execution_count": null,
   "metadata": {},
   "outputs": [],
   "source": [
    "runs = [bdp.Run(run_id, dataset, filterFreq=10.0) for run_id in run_ids]"
   ]
  },
  {
   "cell_type": "markdown",
   "metadata": {},
   "source": [
    "# Check sensor battery voltages\n",
    "\n",
    "Let's have a look at the voltage levels for every one of the runs."
   ]
  },
  {
   "cell_type": "code",
   "execution_count": null,
   "metadata": {
    "collapsed": true
   },
   "outputs": [],
   "source": [
    "import matplotlib.pyplot as plt\n",
    "%matplotlib notebook"
   ]
  },
  {
   "cell_type": "code",
   "execution_count": null,
   "metadata": {},
   "outputs": [],
   "source": [
    "fig, axes = plt.subplots(len(runs), figsize=(6, 10))\n",
    "for run, ax in zip(runs, axes):\n",
    "    run.rawSignals['ThreeVolts'].plot(ax=ax)\n",
    "    run.rawSignals['FiveVolts'].plot(ax=ax)\n",
    "    run.rawSignals['PushButton'].plot(ax=ax)\n",
    "    ax.set_ylabel('Voltage')\n",
    "    ax.legend(['ThreeVolts', 'FiveVolts', 'PushButton'])\n",
    "plt.tight_layout()"
   ]
  },
  {
   "cell_type": "markdown",
   "metadata": {},
   "source": [
    "I'm not completely sure but the push button voltage should be closer to zero when the button is not pushed. It doesn't seem to be causing any issues, but seems odd."
   ]
  },
  {
   "cell_type": "code",
   "execution_count": null,
   "metadata": {},
   "outputs": [],
   "source": [
    "run.taskSignals['FiveVolts'].mean()"
   ]
  },
  {
   "cell_type": "code",
   "execution_count": null,
   "metadata": {},
   "outputs": [],
   "source": [
    "run.taskSignals['FiveVolts'].std()"
   ]
  },
  {
   "cell_type": "code",
   "execution_count": null,
   "metadata": {},
   "outputs": [],
   "source": [
    "run.taskSignals['ThreeVolts'].mean()"
   ]
  },
  {
   "cell_type": "code",
   "execution_count": null,
   "metadata": {},
   "outputs": [],
   "source": [
    "run.taskSignals['ThreeVolts'].std()"
   ]
  },
  {
   "cell_type": "markdown",
   "metadata": {},
   "source": [
    "# Check the forward speed variation\n",
    "\n",
    "Below is a comparison of the speed maintained during the task. All of the runs bu 814, I slowed down at a more-or-less constant rate. It is very difficult to get the cruise control set a low speeds. I think I set it for the last few runs, but there was still the same drop in speed that we see 815, where the note indicates that there is was definitely no cruise control. This may be a problem beause handling varies so much with speed. We need to at least get a constant speed."
   ]
  },
  {
   "cell_type": "code",
   "execution_count": null,
   "metadata": {},
   "outputs": [],
   "source": [
    "fig, ax = plt.subplots(1)\n",
    "for run in runs:\n",
    "    run.taskSignals['ForwardSpeed'].plot(ax=ax)\n",
    "ax.legend(run_ids)\n",
    "ax.set_title('')\n",
    "plt.tight_layout()"
   ]
  },
  {
   "cell_type": "markdown",
   "metadata": {},
   "source": [
    "A quick comparison of the forward speeds during each run can be done with box plots. The blue line and shaded region shows the mean and standard deviation among the runs."
   ]
  },
  {
   "cell_type": "code",
   "execution_count": null,
   "metadata": {},
   "outputs": [],
   "source": [
    "plt.figure()\n",
    "plt.boxplot([run.taskSignals['ForwardSpeed'] for run in runs], labels=run_ids)\n",
    "plt.ylabel('ForwardSpeed [meter/second]')\n",
    "plt.xlabel('RunID');"
   ]
  },
  {
   "cell_type": "code",
   "execution_count": null,
   "metadata": {},
   "outputs": [],
   "source": [
    "import numpy as np\n",
    "mean_speed_of_runs = np.mean([run.taskSignals['ForwardSpeed'].mean() for run in runs])\n",
    "mean_line = plt.axhline(mean_speed_of_runs);"
   ]
  },
  {
   "cell_type": "code",
   "execution_count": null,
   "metadata": {},
   "outputs": [],
   "source": [
    "std_speed_of_runs = np.std([run.taskSignals['ForwardSpeed'].mean() for run in runs])\n",
    "plt.fill_between(plt.gca().get_xlim(), mean_speed_of_runs - std_speed_of_runs,\n",
    "                 mean_speed_of_runs + std_speed_of_runs, alpha=0.5);"
   ]
  },
  {
   "cell_type": "markdown",
   "metadata": {},
   "source": [
    "# Steer angle variation\n",
    "\n",
    "Now let's compare the steer angle of each of these runs."
   ]
  },
  {
   "cell_type": "code",
   "execution_count": null,
   "metadata": {},
   "outputs": [],
   "source": [
    "fig, axes = plt.subplots(len(run_ids), figsize=(8, 12))\n",
    "for run, ax in zip(runs, axes):\n",
    "    run.taskSignals['SteerAngle'].plot(ax=ax)\n",
    "    ax.set_ylim((-0.25, 0.25))\n",
    "plt.tight_layout()"
   ]
  },
  {
   "cell_type": "markdown",
   "metadata": {},
   "source": [
    "Here I check whether the standard deviation in the steering angle correlates to the weight position. It seems to, except for the repeat of the position 4 run, which ends up being the worst in terms of steering. The boxplot is sorted left to right by the standard deviation in the steering angle."
   ]
  },
  {
   "cell_type": "code",
   "execution_count": null,
   "metadata": {
    "collapsed": true
   },
   "outputs": [],
   "source": [
    "# maps the weight position to the run\n",
    "pos_map = {814: 1, 815: 4, 816: 4, 817: 2, 818: 6, 819: 7}"
   ]
  },
  {
   "cell_type": "code",
   "execution_count": null,
   "metadata": {},
   "outputs": [],
   "source": [
    "plt.figure(figsize=(8, 6))\n",
    "steer_angles = sorted([(run.metadata['RunID'], run.taskSignals['SteerAngle']) for run in runs],\n",
    "                      key=lambda tup: tup[1].std())\n",
    "plt.boxplot([s[1] for s in steer_angles], labels=['{}, pos={}'.format(s[0], pos_map[s[0]]) for s in steer_angles])\n",
    "plt.ylabel('SteerAngle [radian]')\n",
    "plt.xlabel('RunID');"
   ]
  },
  {
   "cell_type": "markdown",
   "metadata": {},
   "source": [
    "# Wheel tracks\n",
    "\n",
    "Here we should check whether the wheel tracks were ever wider than the lane width to determine if the performance was adequate. We can also check the standard deviation to see how well the rider stayed on the line."
   ]
  },
  {
   "cell_type": "code",
   "execution_count": null,
   "metadata": {},
   "outputs": [],
   "source": [
    "fig, axes = plt.subplots(len(run_ids), figsize=(8, 12))\n",
    "for run, ax in zip(runs, axes):\n",
    "    run.plot_wheel_contact(ax=ax)\n",
    "    # scott says the lane width is 18 inches\n",
    "    ax.axhline(run.taskSignals['LateralRearContact'].mean() + .2286, color='black')\n",
    "    ax.axhline(run.taskSignals['LateralRearContact'].mean() - .2286, color='black')\n",
    "    ax.set_ylim((-0.25, 0.25))\n",
    "plt.tight_layout()"
   ]
  },
  {
   "cell_type": "markdown",
   "metadata": {},
   "source": [
    "Below we see a comparison of the variation in the lateral location of the rear wheel contact point. The boxes are sorted by standard deviation and not much correlation is seen with the weight position."
   ]
  },
  {
   "cell_type": "code",
   "execution_count": null,
   "metadata": {},
   "outputs": [],
   "source": [
    "plt.figure(figsize=(8, 6))\n",
    "steer_angles = sorted([(run.metadata['RunID'], run.taskSignals['LateralRearContact']) for run in runs],\n",
    "                      key=lambda tup: tup[1].std())\n",
    "plt.boxplot([s[1] for s in steer_angles], labels=['{}, pos={}'.format(s[0], pos_map[s[0]]) for s in steer_angles])\n",
    "plt.ylabel('LateralRearContact [meters]')\n",
    "plt.xlabel('RunID');"
   ]
  },
  {
   "cell_type": "markdown",
   "metadata": {},
   "source": [
    "Below we see a comparison of the variation in the lateral location of the rear wheel contact point. The boxes are sorted by standard deviation and there is evidence of correlation with the weight position, except for run 817."
   ]
  },
  {
   "cell_type": "code",
   "execution_count": null,
   "metadata": {},
   "outputs": [],
   "source": [
    "plt.figure(figsize=(8, 6))\n",
    "steer_angles = sorted([(run.metadata['RunID'], run.taskSignals['LateralFrontContact']) for run in runs],\n",
    "                      key=lambda tup: tup[1].std())\n",
    "plt.boxplot([s[1] for s in steer_angles], labels=['{}, pos={}'.format(s[0], pos_map[s[0]]) for s in steer_angles])\n",
    "plt.ylabel('LateralFrontContact [meters]')\n",
    "plt.xlabel('RunID');"
   ]
  }
 ],
 "metadata": {
  "kernelspec": {
   "display_name": "Python 2",
   "language": "python",
   "name": "python2"
  },
  "language_info": {
   "codemirror_mode": {
    "name": "ipython",
    "version": 2
   },
   "file_extension": ".py",
   "mimetype": "text/x-python",
   "name": "python",
   "nbconvert_exporter": "python",
   "pygments_lexer": "ipython2",
   "version": "2.7.13"
  }
 },
 "nbformat": 4,
 "nbformat_minor": 2
}
